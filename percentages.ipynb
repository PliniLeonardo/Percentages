{
 "cells": [
  {
   "cell_type": "markdown",
   "metadata": {},
   "source": [
    "# Data analysis and interpretation\n"
   ]
  },
  {
   "cell_type": "code",
   "execution_count": null,
   "metadata": {},
   "outputs": [],
   "source": [
    "import pandas as pd\n",
    "import numpy\n",
    "\n",
    "\n",
    "\n",
    "file=pd.read_csv('Alcohol.csv', sep=r'\\s*,\\s*',header=0, encoding='ascii', engine='python')"
   ]
  },
  {
   "cell_type": "code",
   "execution_count": 15,
   "metadata": {},
   "outputs": [],
   "source": [
    "#S2AQ21A HOW OFTEN DRANK ANY ALCOHOL DURING PERIOD OF HEAVIEST DRINKING\n",
    "#S1Q2A LIVED WITH AT LEAST 1 BIOLOGICAL PARENT BEFORE AGE 18\n",
    "#S1Q2B BIOLOGICAL FATHER EVER LIVE IN HOUSEHOLD BEFORE RESPONDENT WAS 18\n",
    "#S1Q2C1 RAISED BY ADOPTIVE PARENTS BEFORE AGE 18\n",
    "#S1Q2C3 RAISED BY FOSTER PARENTS BEFORE AGE 18\n",
    "#S1Q2C4 RAISED IN AN INSTITUTION BEFORE AGE 18\n",
    "#S1Q6A HIGHEST GRADE OR YEAR OF SCHOOL COMPLETED\n",
    "\n",
    "#Select columns\n",
    "\n",
    "df=file[['S2AQ21A','S1Q2A','S1Q2B','S1Q2C1','S1Q2C3','S1Q2C4','S1Q6A']]"
   ]
  },
  {
   "cell_type": "code",
   "execution_count": 16,
   "metadata": {},
   "outputs": [],
   "source": [
    "#rename columns\n",
    "df=df.rename(columns={'S2AQ21A':'alcoholic_score','S1Q6A':'school_level'})\n"
   ]
  },
  {
   "cell_type": "code",
   "execution_count": 17,
   "metadata": {},
   "outputs": [],
   "source": [
    "#eliminate Nan Values and type modifications\n",
    "import numpy as np\n",
    "df.alcoholic_score= df.alcoholic_score.replace(r'^\\s*$', np.nan, regex=True)\n",
    "df.school_level= df.school_level.replace(r'^\\s*$', np.nan, regex=True)\n",
    "df = df[df['alcoholic_score'].notna()]\n",
    "df = df[df['school_level'].notna()]\n",
    "df['alcoholic_score']=df['alcoholic_score'].astype(int)\n"
   ]
  },
  {
   "cell_type": "code",
   "execution_count": 18,
   "metadata": {},
   "outputs": [
    {
     "name": "stdout",
     "output_type": "stream",
     "text": [
      "total number of alcolist\n",
      "10302\n"
     ]
    }
   ],
   "source": [
    "alcolist=df[df['alcoholic_score']<4].count()\n",
    "print('total number of alcolist')\n",
    "print(alcolist[0])"
   ]
  },
  {
   "cell_type": "code",
   "execution_count": 19,
   "metadata": {},
   "outputs": [
    {
     "name": "stdout",
     "output_type": "stream",
     "text": [
      "percentage of each group\n",
      "[0.13754611 0.58930305 0.27315084]\n"
     ]
    }
   ],
   "source": [
    "#percentage of alcolist with lower school instruction\n",
    "a=df[(df['alcoholic_score']<4)&(df['school_level']<8)].count()\n",
    "#percentage of alcolist with medium school instruction\n",
    "b=df[(df['alcoholic_score']<4)&(df['school_level']>7)&(df['school_level']<12)].count()\n",
    "#percentage of alcolist with upper school instruction\n",
    "c=df[(df['alcoholic_score']<4)&(df['school_level']>11)].count()\n",
    "\n",
    "print('percentage of each group')\n",
    "print((a[0],b[0],c[0])/alcolist[0])"
   ]
  },
  {
   "cell_type": "code",
   "execution_count": 20,
   "metadata": {},
   "outputs": [
    {
     "name": "stdout",
     "output_type": "stream",
     "text": [
      "total number of S1Q2A,S2Q2B,S1Q2C1,S1Q2C3,S2Q2C4\n",
      "272 1145 121 26 11\n",
      "percentages of S1Q2A,S2Q2B,S1Q2C1,S1Q2C3,S2Q2C4\n",
      "[0.02640264 0.11114347 0.01174529 0.00252378 0.00106775]\n"
     ]
    }
   ],
   "source": [
    "#people with familiar problems\n",
    "\n",
    "d=df[(df['S1Q2A']==2)&(df['alcoholic_score']<4)].count()\n",
    "e=df[(df['S1Q2B']==2)&(df['alcoholic_score']<4)].count()\n",
    "f=df[(df['S1Q2C1']==1)&(df['alcoholic_score']<4)].count()\n",
    "g=df[(df['S1Q2C3']==1)&(df['alcoholic_score']<4)].count()\n",
    "h=df[(df['S1Q2C4']==1)&(df['alcoholic_score']<4)].count()\n",
    "\n",
    "print('total number of S1Q2A,S2Q2B,S1Q2C1,S1Q2C3,S2Q2C4')\n",
    "print(d[0],e[0],f[0],g[0],h[0])\n",
    "print('percentages of S1Q2A,S2Q2B,S1Q2C1,S1Q2C3,S2Q2C4')\n",
    "print((d[0],e[0],f[0],g[0],h[0])/alcolist[0])"
   ]
  },
  {
   "cell_type": "code",
   "execution_count": 21,
   "metadata": {},
   "outputs": [
    {
     "name": "stdout",
     "output_type": "stream",
     "text": [
      "childrens with this conditions: 4720\n",
      "childrens with this conditions who became alcolist: 1417\n",
      "percentage of children with this conditins who became alcolist: 0.30021186440677966\n",
      "percentage on tatal numer of alcolist: 0.13754610755193167\n"
     ]
    }
   ],
   "source": [
    "#childrens which LIVED WITH AT LEAST 1 BIOLOGICAL PARENT BEFORE AGE 18\n",
    "# or which BIOLOGICAL FATHER EVER LIVE IN HOUSEHOLD BEFORE RESPONDENT WAS 18  \n",
    "#it is a categorical value so I add the variables in a logical way: or condition will give me the childrens raised in previous conditions\n",
    "f=df[(df['S1Q2A']==2)|(df['S1Q2B']==2)].count()\n",
    "g=df[((df['S1Q2A']==2)|(df['S1Q2B']==2) )& (df['alcoholic_score']<4)].count()\n",
    "print('childrens with this conditions:',f[0])\n",
    "print('childrens with this conditions who became alcolist:',g[0])\n",
    "print('percentage of children with this conditins who became alcolist:',g[0]/f[0])\n",
    "print('percentage on tatal numer of alcolist:',g[0]/alcolist[0])\n"
   ]
  },
  {
   "cell_type": "code",
   "execution_count": 22,
   "metadata": {},
   "outputs": [
    {
     "data": {
      "text/plain": [
       "count    34827.000000\n",
       "mean         6.746892\n",
       "std         11.470926\n",
       "min          1.000000\n",
       "25%          3.000000\n",
       "50%          5.000000\n",
       "75%          8.000000\n",
       "max         99.000000\n",
       "Name: alcoholic_score, dtype: float64"
      ]
     },
     "execution_count": 22,
     "metadata": {},
     "output_type": "execute_result"
    }
   ],
   "source": [
    "df['alcoholic_score'].describe()"
   ]
  },
  {
   "cell_type": "code",
   "execution_count": 23,
   "metadata": {},
   "outputs": [
    {
     "data": {
      "text/plain": [
       "Text(0.5, 1.0, 'TOTAL ALCOHOLIC SCORE')"
      ]
     },
     "execution_count": 23,
     "metadata": {},
     "output_type": "execute_result"
    },
    {
     "data": {
      "image/png": "[encoded data removed]",
      "text/plain": [
       "<Figure size 360x360 with 1 Axes>"
      ]
     },
     "metadata": {
      "needs_background": "light"
     },
     "output_type": "display_data"
    }
   ],
   "source": [
    "import seaborn\n",
    "import matplotlib.pyplot as plt\n",
    "\n",
    "grouped=df.groupby('alcoholic_score').size().reset_index(name='count')\n",
    "grouped=grouped.drop([10],axis=0)\n",
    "seaborn.catplot(x=\"alcoholic_score\",y=\"count\",data=grouped,kind=\"bar\")\n",
    "plt.xlabel('alcoholic_score')   \n",
    "plt.title('TOTAL ALCOHOLIC SCORE')"
   ]
  },
  {
   "cell_type": "markdown",
   "metadata": {},
   "source": [
    "# Data Analysis Tools"
   ]
  },
  {
   "cell_type": "markdown",
   "metadata": {},
   "source": [
    "## Week1"
   ]
  },
  {
   "cell_type": "code",
   "execution_count": 24,
   "metadata": {},
   "outputs": [],
   "source": [
    "import statsmodels.formula.api as smf\n",
    "import statsmodels.stats.multicomp as multi\n"
   ]
  },
  {
   "cell_type": "code",
   "execution_count": 53,
   "metadata": {},
   "outputs": [],
   "source": [
    "#variable and covariate:\n",
    "#S2AQ21A HOW OFTEN DRANK ANY ALCOHOL DURING PERIOD OF HEAVIEST DRINKING\n",
    "#S1Q1C HISPANIC OR LATINO ORIGIN\n",
    "#S1Q1D1 \"AMERICAN INDIAN OR ALASKA NATIVE\" CHECKED IN MULTIRACE CODE\n",
    "#S1Q1D2 \"ASIAN\" CHECKED IN MULTIRACE CODE\n",
    "#S1Q1D3 \"BLACK OR AFRICAN AMERICAN\" CHECKED IN MULTIRACE CODE\n",
    "df=file[['S2AQ21A','S1Q1C','S1Q1D1','S1Q1D2','S1Q1D3']]\n",
    "df=df.rename(columns={'S2AQ21A':'alcoholic_score','S1Q1C':'latino','S1Q1D1':'american','S1Q1D2':'asian','S1Q1D3':'african'})"
   ]
  },
  {
   "cell_type": "code",
   "execution_count": 54,
   "metadata": {},
   "outputs": [],
   "source": [
    "#Replace missing data\n",
    "df.alcoholic_score= df.alcoholic_score.replace(r'^\\s*$', np.nan, regex=True)\n",
    "df = df[df['alcoholic_score'].notna()]\n",
    "\n",
    "df.latino= df.latino.replace(r'^\\s*$', np.nan, regex=True)\n",
    "df = df[df['latino'].notna()]\n",
    "\n",
    "df.american= df.american.replace(r'^\\s*$', np.nan, regex=True)\n",
    "df = df[df['american'].notna()]\n",
    "\n",
    "df.asian= df.asian.replace(r'^\\s*$', np.nan, regex=True)\n",
    "df = df[df['asian'].notna()]\n",
    "\n",
    "df.african= df.african.replace(r'^\\s*$', np.nan, regex=True)\n",
    "df = df[df['african'].notna()]"
   ]
  },
  {
   "cell_type": "code",
   "execution_count": 55,
   "metadata": {},
   "outputs": [
    {
     "data": {
      "text/html": [
       "<div>\n",
       "<style scoped>\n",
       "    .dataframe tbody tr th:only-of-type {\n",
       "        vertical-align: middle;\n",
       "    }\n",
       "\n",
       "    .dataframe tbody tr th {\n",
       "        vertical-align: top;\n",
       "    }\n",
       "\n",
       "    .dataframe thead th {\n",
       "        text-align: right;\n",
       "    }\n",
       "</style>\n",
       "<table border=\"1\" class=\"dataframe\">\n",
       "  <thead>\n",
       "    <tr style=\"text-align: right;\">\n",
       "      <th></th>\n",
       "      <th>alcoholic_score</th>\n",
       "      <th>count</th>\n",
       "    </tr>\n",
       "  </thead>\n",
       "  <tbody>\n",
       "    <tr>\n",
       "      <th>0</th>\n",
       "      <td>1.0</td>\n",
       "      <td>4167</td>\n",
       "    </tr>\n",
       "    <tr>\n",
       "      <th>1</th>\n",
       "      <td>2.0</td>\n",
       "      <td>2095</td>\n",
       "    </tr>\n",
       "    <tr>\n",
       "      <th>2</th>\n",
       "      <td>3.0</td>\n",
       "      <td>4040</td>\n",
       "    </tr>\n",
       "    <tr>\n",
       "      <th>3</th>\n",
       "      <td>4.0</td>\n",
       "      <td>4277</td>\n",
       "    </tr>\n",
       "    <tr>\n",
       "      <th>4</th>\n",
       "      <td>5.0</td>\n",
       "      <td>4600</td>\n",
       "    </tr>\n",
       "    <tr>\n",
       "      <th>5</th>\n",
       "      <td>6.0</td>\n",
       "      <td>3309</td>\n",
       "    </tr>\n",
       "    <tr>\n",
       "      <th>6</th>\n",
       "      <td>7.0</td>\n",
       "      <td>2502</td>\n",
       "    </tr>\n",
       "    <tr>\n",
       "      <th>7</th>\n",
       "      <td>8.0</td>\n",
       "      <td>1367</td>\n",
       "    </tr>\n",
       "    <tr>\n",
       "      <th>8</th>\n",
       "      <td>9.0</td>\n",
       "      <td>2759</td>\n",
       "    </tr>\n",
       "    <tr>\n",
       "      <th>9</th>\n",
       "      <td>10.0</td>\n",
       "      <td>5215</td>\n",
       "    </tr>\n",
       "  </tbody>\n",
       "</table>\n",
       "</div>"
      ],
      "text/plain": [
       "   alcoholic_score  count\n",
       "0              1.0   4167\n",
       "1              2.0   2095\n",
       "2              3.0   4040\n",
       "3              4.0   4277\n",
       "4              5.0   4600\n",
       "5              6.0   3309\n",
       "6              7.0   2502\n",
       "7              8.0   1367\n",
       "8              9.0   2759\n",
       "9             10.0   5215"
      ]
     },
     "execution_count": 55,
     "metadata": {},
     "output_type": "execute_result"
    }
   ],
   "source": [
    "#rename column\n",
    "\n",
    "grouped=df.groupby('alcoholic_score').size().reset_index(name='count')\n",
    "grouped=grouped.drop([10],axis=0)\n",
    "grouped"
   ]
  },
  {
   "cell_type": "code",
   "execution_count": 59,
   "metadata": {},
   "outputs": [
    {
     "name": "stdout",
     "output_type": "stream",
     "text": [
      "                            OLS Regression Results                            \n",
      "==============================================================================\n",
      "Dep. Variable:        alcoholic_score   R-squared:                       0.000\n",
      "Model:                            OLS   Adj. R-squared:                  0.000\n",
      "Method:                 Least Squares   F-statistic:                     15.04\n",
      "Date:                Sun, 14 Feb 2021   Prob (F-statistic):           0.000105\n",
      "Time:                        18:09:29   Log-Likelihood:            -1.3438e+05\n",
      "No. Observations:               34827   AIC:                         2.688e+05\n",
      "Df Residuals:                   34825   BIC:                         2.688e+05\n",
      "Df Model:                           1                                         \n",
      "Covariance Type:            nonrobust                                         \n",
      "==============================================================================\n",
      "                 coef    std err          t      P>|t|      [0.025      0.975]\n",
      "------------------------------------------------------------------------------\n",
      "Intercept      7.8892      0.301     26.220      0.000       7.299       8.479\n",
      "latino        -0.6262      0.161     -3.878      0.000      -0.943      -0.310\n",
      "==============================================================================\n",
      "Omnibus:                    44482.965   Durbin-Watson:                   1.984\n",
      "Prob(Omnibus):                  0.000   Jarque-Bera (JB):          4978526.939\n",
      "Skew:                           7.395   Prob(JB):                         0.00\n",
      "Kurtosis:                      59.675   Cond. No.                         11.7\n",
      "==============================================================================\n",
      "\n",
      "Notes:\n",
      "[1] Standard Errors assume that the covariance matrix of the errors is correctly specified.\n"
     ]
    }
   ],
   "source": [
    "#F-statistic and p-value--> I reject the null hypothesis and there is no difference in mean\n",
    "model=smf.ols(formula='alcoholic_score~latino',data=df)\n",
    "result=model.fit()\n",
    "print(result.summary())"
   ]
  },
  {
   "cell_type": "code",
   "execution_count": 60,
   "metadata": {},
   "outputs": [
    {
     "name": "stdout",
     "output_type": "stream",
     "text": [
      "                            OLS Regression Results                            \n",
      "==============================================================================\n",
      "Dep. Variable:        alcoholic_score   R-squared:                       0.002\n",
      "Model:                            OLS   Adj. R-squared:                  0.002\n",
      "Method:                 Least Squares   F-statistic:                     18.26\n",
      "Date:                Sun, 14 Feb 2021   Prob (F-statistic):           5.34e-15\n",
      "Time:                        18:11:35   Log-Likelihood:            -1.3435e+05\n",
      "No. Observations:               34827   AIC:                         2.687e+05\n",
      "Df Residuals:                   34822   BIC:                         2.688e+05\n",
      "Df Model:                           4                                         \n",
      "Covariance Type:            nonrobust                                         \n",
      "==============================================================================\n",
      "                 coef    std err          t      P>|t|      [0.025      0.975]\n",
      "------------------------------------------------------------------------------\n",
      "Intercept      9.9068      1.179      8.400      0.000       7.595      12.219\n",
      "latino        -0.8503      0.164     -5.177      0.000      -1.172      -0.528\n",
      "american       1.3733      0.361      3.806      0.000       0.666       2.081\n",
      "asian         -1.3155      0.403     -3.262      0.001      -2.106      -0.525\n",
      "african       -0.9447      0.161     -5.873      0.000      -1.260      -0.629\n",
      "==============================================================================\n",
      "Omnibus:                    44494.902   Durbin-Watson:                   1.985\n",
      "Prob(Omnibus):                  0.000   Jarque-Bera (JB):          4985141.937\n",
      "Skew:                           7.398   Prob(JB):                         0.00\n",
      "Kurtosis:                      59.714   Cond. No.                         79.1\n",
      "==============================================================================\n",
      "\n",
      "Notes:\n",
      "[1] Standard Errors assume that the covariance matrix of the errors is correctly specified.\n"
     ]
    }
   ],
   "source": [
    "model=smf.ols(formula='alcoholic_score~latino+american+asian+african',data=df)\n",
    "result=model.fit()\n",
    "print(result.summary())"
   ]
  },
  {
   "cell_type": "code",
   "execution_count": 77,
   "metadata": {},
   "outputs": [
    {
     "name": "stdout",
     "output_type": "stream",
     "text": [
      "Multiple Comparison of Means - Tukey HSD, FWER=0.05\n",
      "===================================================\n",
      "group1 group2 meandiff p-adj  lower   upper  reject\n",
      "---------------------------------------------------\n",
      "     1      2  -0.6262 0.001 -0.9427 -0.3097   True\n",
      "---------------------------------------------------\n",
      "Multiple Comparison of Means - Tukey HSD, FWER=0.05\n",
      "=================================================\n",
      "group1 group2 meandiff p-adj lower  upper  reject\n",
      "-------------------------------------------------\n",
      "     1      2   1.3086 0.001 0.6026 2.0147   True\n",
      "-------------------------------------------------\n",
      "Multiple Comparison of Means - Tukey HSD, FWER=0.05\n",
      "===================================================\n",
      "group1 group2 meandiff p-adj   lower  upper  reject\n",
      "---------------------------------------------------\n",
      "     1      2  -1.1139 0.0057 -1.9027 -0.325   True\n",
      "---------------------------------------------------\n",
      "Multiple Comparison of Means - Tukey HSD, FWER=0.05\n",
      "===================================================\n",
      "group1 group2 meandiff p-adj  lower   upper  reject\n",
      "---------------------------------------------------\n",
      "     1      2  -0.7847 0.001 -1.0948 -0.4746   True\n",
      "---------------------------------------------------\n"
     ]
    }
   ],
   "source": [
    "#post hoc comparison--> reject all the null hypothesis\n",
    "mc1=multi.MultiComparison(df['alcoholic_score'],df['latino'])\n",
    "res1=mc1.tukeyhsd()\n",
    "print(res1.summary())\n",
    "\n",
    "mc1=multi.MultiComparison(df['alcoholic_score'],df['american'])\n",
    "res1=mc1.tukeyhsd()\n",
    "print(res1.summary())\n",
    "\n",
    "mc1=multi.MultiComparison(df['alcoholic_score'],df['asian'])\n",
    "res1=mc1.tukeyhsd()\n",
    "print(res1.summary())\n",
    "\n",
    "mc1=multi.MultiComparison(df['alcoholic_score'],df['african'])\n",
    "res1=mc1.tukeyhsd()\n",
    "print(res1.summary())"
   ]
  },
  {
   "cell_type": "markdown",
   "metadata": {},
   "source": [
    "## Week 2: X^2 Test of Indipendece\n"
   ]
  },
  {
   "cell_type": "code",
   "execution_count": 80,
   "metadata": {},
   "outputs": [],
   "source": [
    "#import libraries\n",
    "import scipy.stats\n",
    "import seaborn\n",
    "import matplotlib.pyplot as plt"
   ]
  },
  {
   "cell_type": "code",
   "execution_count": 131,
   "metadata": {},
   "outputs": [],
   "source": [
    "#choosing variables \n",
    "# Are cigarettes and cannabis related?\n",
    "#S3AQ3C1 USUAL QUANTITY WHEN SMOKED CIGARETTES \n",
    "#S3BQ1A5 EVER USED CANNABIS 1=yes 2=NO\n",
    "\n",
    "df=file[['S3BQ1A5','S3AQ3C1']]\n",
    "df=df.rename(columns={'S3AQ3C1':'cigarettes','S3BQ1A5':'cannabis'})\n"
   ]
  },
  {
   "cell_type": "code",
   "execution_count": 144,
   "metadata": {},
   "outputs": [],
   "source": [
    "#eliminate unknown rows\n",
    "df.drop(df.index[(df[\"cigarettes\"] == 99)|(df[\"cannabis\"] == 9)],axis=0,inplace=True)\n"
   ]
  },
  {
   "cell_type": "code",
   "execution_count": 141,
   "metadata": {},
   "outputs": [],
   "source": [
    "#recode cigarettes into new variable: take just people who smoke 1,5,10,20,30\n",
    "recode={30:30,20:20,10:10,5:5,1:1}\n",
    "df['cigarettes']=df['cigarettes'].map(recode)"
   ]
  },
  {
   "cell_type": "code",
   "execution_count": 142,
   "metadata": {},
   "outputs": [
    {
     "name": "stdout",
     "output_type": "stream",
     "text": [
      "cigarettes  1.0   5.0   10.0  20.0  30.0\n",
      "cannabis                                \n",
      "1            258   317   934  1630   289\n",
      "2            674   747  2136  3719   616\n",
      "\n",
      "cigarettes      1.0       5.0       10.0     20.0      30.0\n",
      "cannabis                                                   \n",
      "1           0.276824  0.297932  0.304235  0.30473  0.319337\n",
      "2           0.723176  0.702068  0.695765  0.69527  0.680663\n"
     ]
    }
   ],
   "source": [
    "#contigenty table of observed counts\n",
    "ct=pd.crosstab(df['cannabis'],df['cigarettes'])\n",
    "print(ct)\n",
    "print()\n",
    "#column percentages\n",
    "colsum=ct.sum(axis=0)\n",
    "colpct=ct/colsum\n",
    "print(colpct)"
   ]
  },
  {
   "cell_type": "code",
   "execution_count": 143,
   "metadata": {},
   "outputs": [
    {
     "name": "stdout",
     "output_type": "stream",
     "text": [
      "chi-square value, p-value, expected counts\n",
      "\n",
      "(4.394611051929785, 0.3552274132158104, 4, array([[ 282.23462898,  322.20777385,  929.67844523, 1619.82084806,\n",
      "         274.05830389],\n",
      "       [ 649.76537102,  741.79222615, 2140.32155477, 3729.17915194,\n",
      "         630.94169611]]))\n",
      " there is no evidence of correlation between cigarretes and cannabis use and I do not need to provide a post hoc test\n"
     ]
    }
   ],
   "source": [
    "#chi-square test: I reject the null hypothesis\n",
    "print('chi-square value, p-value, expected counts')\n",
    "print()\n",
    "cs=scipy.stats.chi2_contingency(ct)\n",
    "print(cs)\n",
    "print(' there is no evidence of correlation between cigarretes and cannabis use and I do not need to provide a post hoc test')"
   ]
  },
  {
   "cell_type": "code",
   "execution_count": 145,
   "metadata": {},
   "outputs": [
    {
     "name": "stdout",
     "output_type": "stream",
     "text": [
      "cigarettes  1.0   30.0\n",
      "cannabis              \n",
      "1            258   289\n",
      "2            674   616\n",
      "\n",
      "cigarettes      1.0       30.0\n",
      "cannabis                      \n",
      "1           0.276824  0.319337\n",
      "2           0.723176  0.680663\n"
     ]
    }
   ],
   "source": [
    "#I provide an example of post hoc analysis\n",
    "recode={30:30,1:1}\n",
    "df['cigarettes']=df['cigarettes'].map(recode)\n",
    "\n",
    "ct=pd.crosstab(df['cannabis'],df['cigarettes'])\n",
    "print(ct)\n",
    "print()\n",
    "#column percentages\n",
    "colsum=ct.sum(axis=0)\n",
    "colpct=ct/colsum\n",
    "print(colpct)"
   ]
  },
  {
   "cell_type": "code",
   "execution_count": 146,
   "metadata": {},
   "outputs": [
    {
     "name": "stdout",
     "output_type": "stream",
     "text": [
      "chi-square value, p-value, expected counts\n",
      "\n",
      "(3.7679141546973245, 0.05224474512358535, 1, array([[277.51986935, 269.48013065],\n",
      "       [654.48013065, 635.51986935]]))\n"
     ]
    }
   ],
   "source": [
    "#chi-square test: I reject the null hypothesis\n",
    "print('chi-square value, p-value, expected counts')\n",
    "print()\n",
    "cs=scipy.stats.chi2_contingency(ct)\n",
    "print(cs)"
   ]
  },
  {
   "cell_type": "markdown",
   "metadata": {},
   "source": [
    "## Week 3: Pearson Correlation"
   ]
  },
  {
   "cell_type": "code",
   "execution_count": 147,
   "metadata": {},
   "outputs": [],
   "source": [
    "#libraries\n",
    "import numpy \n",
    "import pandas as pd\n",
    "import seaborn\n",
    "import scipy\n",
    "import matplotlib.pyplot as plt\n"
   ]
  },
  {
   "cell_type": "code",
   "execution_count": 155,
   "metadata": {},
   "outputs": [],
   "source": [
    "#dataframe alcohool and sigarettes\n",
    "#S3AQ3C1 USUAL QUANTITY WHEN SMOKED CIGARETTES \n",
    "#S2AQ8B NUMBER OF DRINKS OF ANY ALCOHOL USUALLY CONSUMED ON DAYS WHEN DRANK ALCOHOL IN LAST 12 MONTHS\n",
    "df=file[['S3AQ3C1','S2AQ8B']]\n",
    "df=df.rename(columns={'S3AQ3C1':'cigarettes','S2AQ8B':'alcohol'})\n",
    "df=df.dropna()\n",
    "#elimanate unknown rows\n",
    "df.drop(df.index[(df[\"cigarettes\"] == 99)|(df[\"alcohol\"] == 99)],axis=0,inplace=True)\n"
   ]
  },
  {
   "cell_type": "code",
   "execution_count": 157,
   "metadata": {},
   "outputs": [
    {
     "data": {
      "text/plain": [
       "Text(0.5, 1.0, 'scatterplot cigarettes vs alcohol consumed')"
      ]
     },
     "execution_count": 157,
     "metadata": {},
     "output_type": "execute_result"
    },
    {
     "data": {
      "image/png": "[encoded data removed]",
      "text/plain": [
       "<Figure size 432x288 with 1 Axes>"
      ]
     },
     "metadata": {
      "needs_background": "light"
     },
     "output_type": "display_data"
    }
   ],
   "source": [
    "scat=seaborn.regplot(x=\"cigarettes\",y=\"alcohol\",fit_reg=True,data=df)\n",
    "plt.title('scatterplot cigarettes vs alcohol consumed')"
   ]
  },
  {
   "cell_type": "code",
   "execution_count": 164,
   "metadata": {},
   "outputs": [
    {
     "name": "stdout",
     "output_type": "stream",
     "text": [
      "association between cigarettes and alcohol\n",
      "(0.053841297867649074, 1.3023416843327548e-09)\n",
      "R2 is: 0.002898853281\n",
      "\n",
      "THERE IS A SMALL ASSOCIATION BETWEEN SMOKING CIGARETTES AND CONSUMING A LARGE AMOUNT OF ALCOHOL BECAUSE R=0.053 \n",
      "p-value is 1.3*e-09<<0.05 so the relationship is statistically significant\n",
      "R2 is quite small beacuase when can justify just 0.00289 of the variability\n"
     ]
    }
   ],
   "source": [
    "print('association between cigarettes and alcohol')\n",
    "print(scipy.stats.pearsonr(df['cigarettes'],df['alcohol']))\n",
    "R2=0.053841*0.053841\n",
    "print('R2 is:',R2)\n",
    "print()\n",
    "print('THERE IS A SMALL ASSOCIATION BETWEEN SMOKING CIGARETTES AND CONSUMING A LARGE AMOUNT OF ALCOHOL BECAUSE R=0.053 ')\n",
    "print('p-value is 1.3*e-09<<0.05 so the relationship is statistically significant')\n",
    "print('R2 is quite small beacuase when can justify just 0.00289 of the variability')"
   ]
  },
  {
   "cell_type": "code",
   "execution_count": null,
   "metadata": {},
   "outputs": [],
   "source": []
  }
 ],
 "metadata": {
  "kernelspec": {
   "display_name": "Python 3",
   "language": "python",
   "name": "python3"
  },
  "language_info": {
   "codemirror_mode": {
    "name": "ipython",
    "version": 3
   },
   "file_extension": ".py",
   "mimetype": "text/x-python",
   "name": "python",
   "nbconvert_exporter": "python",
   "pygments_lexer": "ipython3",
   "version": "3.8.5"
  }
 },
 "nbformat": 4,
 "nbformat_minor": 4
}
