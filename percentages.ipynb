{
 "cells": [
  {
   "cell_type": "code",
   "execution_count": 222,
   "metadata": {},
   "outputs": [
    {
     "name": "stderr",
     "output_type": "stream",
     "text": [
      "/opt/anaconda3/lib/python3.8/site-packages/IPython/core/interactiveshell.py:3146: DtypeWarning: Columns (77) have mixed types.Specify dtype option on import or set low_memory=False.\n",
      "  has_raised = await self.run_ast_nodes(code_ast.body, cell_name,\n"
     ]
    }
   ],
   "source": [
    "import pandas as pd\n",
    "\n",
    "\n",
    "file=pd.read_csv('Alcohol.csv')"
   ]
  },
  {
   "cell_type": "code",
   "execution_count": 223,
   "metadata": {},
   "outputs": [
    {
     "ename": "SyntaxError",
     "evalue": "unexpected EOF while parsing (<ipython-input-223-1260dc7c0805>, line 11)",
     "output_type": "error",
     "traceback": [
      "\u001b[0;36m  File \u001b[0;32m\"<ipython-input-223-1260dc7c0805>\"\u001b[0;36m, line \u001b[0;32m11\u001b[0m\n\u001b[0;31m    df=file[['S2AQ21A','S1Q2A','S1Q2B','S1Q2C1','S1Q2C3','S1Q2C4','S1Q6A']\u001b[0m\n\u001b[0m                                                                          ^\u001b[0m\n\u001b[0;31mSyntaxError\u001b[0m\u001b[0;31m:\u001b[0m unexpected EOF while parsing\n"
     ]
    }
   ],
   "source": [
    "#S2AQ21A HOW OFTEN DRANK ANY ALCOHOL DURING PERIOD OF HEAVIEST DRINKING\n",
    "#S1Q2A LIVED WITH AT LEAST 1 BIOLOGICAL PARENT BEFORE AGE 18\n",
    "#S1Q2B BIOLOGICAL FATHER EVER LIVE IN HOUSEHOLD BEFORE RESPONDENT WAS 18\n",
    "#S1Q2C1 RAISED BY ADOPTIVE PARENTS BEFORE AGE 18\n",
    "#S1Q2C3 RAISED BY FOSTER PARENTS BEFORE AGE 18\n",
    "#S1Q2C4 RAISED IN AN INSTITUTION BEFORE AGE 18\n",
    "#S1Q6A HIGHEST GRADE OR YEAR OF SCHOOL COMPLETED\n",
    "\n",
    "#Select columns\n",
    "\n",
    "df=file[['S2AQ21A','S1Q2A','S1Q2B','S1Q2C1','S1Q2C3','S1Q2C4','S1Q6A']"
   ]
  },
  {
   "cell_type": "code",
   "execution_count": null,
   "metadata": {},
   "outputs": [],
   "source": [
    "#rename columns\n",
    "df=df.rename(columns={'S2AQ21A':'alcoholic_score','S1Q6A':'school_level'})"
   ]
  },
  {
   "cell_type": "code",
   "execution_count": null,
   "metadata": {},
   "outputs": [],
   "source": [
    "#eliminate Nan Values and type modifications\n",
    "import numpy as np\n",
    "df.alcoholic_score= df.alcoholic_score.replace(r'^\\s*$', np.nan, regex=True)\n",
    "df.school_level= df.school_level.replace(r'^\\s*$', np.nan, regex=True)\n",
    "df = df[df['alcoholic_score'].notna()]\n",
    "df = df[df['school_level'].notna()]\n",
    "df['alcoholic_score']=df['alcoholic_score'].astype(int)\n"
   ]
  },
  {
   "cell_type": "code",
   "execution_count": 244,
   "metadata": {},
   "outputs": [
    {
     "name": "stdout",
     "output_type": "stream",
     "text": [
      "total number of alcolist\n",
      "10302\n"
     ]
    }
   ],
   "source": [
    "alcolist=df[df['alcoholic_score']<4].count()\n",
    "print('total number of alcolist')\n",
    "print(alcolist[0])"
   ]
  },
  {
   "cell_type": "code",
   "execution_count": null,
   "metadata": {},
   "outputs": [],
   "source": [
    "#percentage of alcolist with lower school instruction\n",
    "a=df[(df['alcoholic_score']<4)&(df['school_level']<8)].count()\n",
    "#percentage of alcolist with medium school instruction\n",
    "b=df[(df['alcoholic_score']<4)&(df['school_level']>7)&(df['school_level']<12)].count()\n",
    "#percentage of alcolist with upper school instruction\n",
    "c=df[(df['alcoholic_score']<4)&(df['school_level']>11)].count()\n",
    "\n",
    "print('percentage of each group')\n",
    "print((a[0],b[0],c[0])/alcolist[0])"
   ]
  },
  {
   "cell_type": "code",
   "execution_count": null,
   "metadata": {},
   "outputs": [],
   "source": [
    "#people with familiar problems\n",
    "\n",
    "d=df[(df['S1Q2A']==2)&(df['alcoholic_score']<4)].count()\n",
    "e=df[(df['S1Q2B']==2)&(df['alcoholic_score']<4)].count()\n",
    "f=df[(df['S1Q2C1']==1)&(df['alcoholic_score']<4)].count()\n",
    "g=df[(df['S1Q2C3']==1)&(df['alcoholic_score']<4)].count()\n",
    "h=df[(df['S1Q2C4']==1)&(df['alcoholic_score']<4)].count()\n",
    "\n",
    "print('total number of S1Q2A,S2Q2B,S1Q2C1,S1Q2C3,S2Q2C4')\n",
    "print(d[0],e[0],f[0],g[0],h[0])\n",
    "print('percentages of S1Q2A,S2Q2B,S1Q2C1,S1Q2C3,S2Q2C4')\n",
    "print((d[0],e[0],f[0],g[0],h[0])/alcolist[0])"
   ]
  },
  {
   "cell_type": "code",
   "execution_count": 255,
   "metadata": {},
   "outputs": [
    {
     "name": "stdout",
     "output_type": "stream",
     "text": [
      "childrens with this conditions: 906\n",
      "childrens with this conditions who became alcolist: 272\n",
      "percentage of children with this conditins who became alcolist: 0.30022075055187636\n",
      "percentage on tatal numer of alcolist: 0.026402640264026403\n"
     ]
    }
   ],
   "source": [
    "#childrens which LIVED WITH AT LEAST 1 BIOLOGICAL PARENT BEFORE AGE 18\n",
    "# or which BIOLOGICAL FATHER EVER LIVE IN HOUSEHOLD BEFORE RESPONDENT WAS 18  \n",
    "#it is a categorical value so I add the variables in a logical way: or condition will give me the childrens raised in previous conditions\n",
    "f=df[(df['S1Q2A']==2)|(df['S1Q2B']==2)].count()\n",
    "g=df[((df['S1Q2A']==2)|(df['S1Q2B']==2) )& (df['alcoholic_score']<4)].count()\n",
    "print('childrens with this conditions:',f[0])\n",
    "print('childrens with this conditions who became alcolist:',g[0])\n",
    "print('percentage of children with this conditins who became alcolist:',g[0]/f[0])\n",
    "print('percentage on tatal numer of alcolist:',g[0]/alcolist[0])\n"
   ]
  },
  {
   "cell_type": "code",
   "execution_count": null,
   "metadata": {},
   "outputs": [],
   "source": []
  }
 ],
 "metadata": {
  "kernelspec": {
   "display_name": "Python 3",
   "language": "python",
   "name": "python3"
  },
  "language_info": {
   "codemirror_mode": {
    "name": "ipython",
    "version": 3
   },
   "file_extension": ".py",
   "mimetype": "text/x-python",
   "name": "python",
   "nbconvert_exporter": "python",
   "pygments_lexer": "ipython3",
   "version": "3.8.5"
  }
 },
 "nbformat": 4,
 "nbformat_minor": 4
}
