{
 "cells": [
  {
   "cell_type": "code",
   "execution_count": 80,
   "metadata": {},
   "outputs": [
    {
     "name": "stderr",
     "output_type": "stream",
     "text": [
      "/opt/anaconda3/lib/python3.8/site-packages/IPython/core/interactiveshell.py:3146: DtypeWarning: Columns (77) have mixed types.Specify dtype option on import or set low_memory=False.\n",
      "  has_raised = await self.run_ast_nodes(code_ast.body, cell_name,\n"
     ]
    }
   ],
   "source": [
    "import pandas as pd\n",
    "\n",
    "\n",
    "file=pd.read_csv('Alcohol.csv')"
   ]
  },
  {
   "cell_type": "code",
   "execution_count": 172,
   "metadata": {},
   "outputs": [
    {
     "ename": "SyntaxError",
     "evalue": "unexpected EOF while parsing (<ipython-input-172-96e09e11fcac>, line 10)",
     "output_type": "error",
     "traceback": [
      "\u001b[0;36m  File \u001b[0;32m\"<ipython-input-172-96e09e11fcac>\"\u001b[0;36m, line \u001b[0;32m10\u001b[0m\n\u001b[0;31m    df=file[['S2AQ21A','S1Q2A','S1Q2B','S1Q2C1','S1Q2C3','S1Q2C4','S1Q6A']\u001b[0m\n\u001b[0m                                                                          ^\u001b[0m\n\u001b[0;31mSyntaxError\u001b[0m\u001b[0;31m:\u001b[0m unexpected EOF while parsing\n"
     ]
    }
   ],
   "source": [
    "#S2AQ21A HOW OFTEN DRANK ANY ALCOHOL DURING PERIOD OF HEAVIEST DRINKING\n",
    "#S1Q2A LIVED WITH AT LEAST 1 BIOLOGICAL PARENT BEFORE AGE 18\n",
    "#S1Q2B BIOLOGICAL FATHER EVER LIVE IN HOUSEHOLD BEFORE RESPONDENT WAS 18\n",
    "#S1Q2C1 RAISED BY ADOPTIVE PARENTS BEFORE AGE 18\n",
    "#S1Q2C3 RAISED BY FOSTER PARENTS BEFORE AGE 18\n",
    "#S1Q2C4 RAISED IN AN INSTITUTION BEFORE AGE 18\n",
    "#S1Q6A HIGHEST GRADE OR YEAR OF SCHOOL COMPLETED\n",
    "\n",
    "#Select columns\n",
    "\n",
    "df=file[['S2AQ21A','S1Q2A','S1Q2B','S1Q2C1','S1Q2C3','S1Q2C4','S1Q6A']"
   ]
  },
  {
   "cell_type": "code",
   "execution_count": 173,
   "metadata": {},
   "outputs": [],
   "source": [
    "#rename columns\n",
    "df=df.rename(columns={'S2AQ21A':'alcoholic_score','S1Q6A':'school_level'})"
   ]
  },
  {
   "cell_type": "code",
   "execution_count": 175,
   "metadata": {},
   "outputs": [],
   "source": [
    "#eliminate Nan Values and type modifications\n",
    "import numpy as np\n",
    "df.alcoholic_score= df.alcoholic_score.replace(r'^\\s*$', np.nan, regex=True)\n",
    "df.school_level= df.school_level.replace(r'^\\s*$', np.nan, regex=True)\n",
    "df = df[df['alcoholic_score'].notna()]\n",
    "df = df[df['school_level'].notna()]\n",
    "df['alcoholic_score']=df['alcoholic_score'].astype(int)\n"
   ]
  },
  {
   "cell_type": "code",
   "execution_count": 212,
   "metadata": {},
   "outputs": [
    {
     "name": "stdout",
     "output_type": "stream",
     "text": [
      "total number of alcolist\n",
      "10302\n"
     ]
    }
   ],
   "source": [
    "alcolist=df[df['alcoholic_score']<4].count()\n",
    "print('total number of alcolist')\n",
    "print(alcolist[0])"
   ]
  },
  {
   "cell_type": "code",
   "execution_count": 210,
   "metadata": {},
   "outputs": [
    {
     "name": "stdout",
     "output_type": "stream",
     "text": [
      "percentage of each group\n",
      "[0.13754611 0.58930305 0.27315084]\n"
     ]
    }
   ],
   "source": [
    "#percentage of alcolist with lower school instruction\n",
    "a=df[(df['alcoholic_score']<4)&(df['school_level']<8)].count()\n",
    "#percentage of alcolist with medium school instruction\n",
    "b=df[(df['alcoholic_score']<4)&(df['school_level']>7)&(df['school_level']<12)].count()\n",
    "#percentage of alcolist with upper school instruction\n",
    "c=df[(df['alcoholic_score']<4)&(df['school_level']>11)].count()\n",
    "\n",
    "print('percentage of each group')\n",
    "print((a[0],b[0],c[0])/alcolist[0])"
   ]
  },
  {
   "cell_type": "code",
   "execution_count": 208,
   "metadata": {},
   "outputs": [
    {
     "name": "stdout",
     "output_type": "stream",
     "text": [
      "total number of S1Q2A,S2Q2B,S1Q2C1,S1Q2C3,S2Q2C4\n",
      "272 0 0 0 0\n",
      "percentages of S1Q2A,S2Q2B,S1Q2C1,S1Q2C3,S2Q2C4\n",
      "[0.02640264 0.         0.         0.         0.        ]\n"
     ]
    }
   ],
   "source": [
    "#people with familiar problems\n",
    "\n",
    "d=df[(df['S1Q2A']==2)&(df['alcoholic_score']<4)].count()\n",
    "e=df[(df['S1Q2B']==2)&(df['alcoholic_score']<4)].count()\n",
    "f=df[(df['S1Q2C1']==1)&(df['alcoholic_score']<4)].count()\n",
    "g=df[(df['S1Q2C3']==1)&(df['alcoholic_score']<4)].count()\n",
    "h=df[(df['S1Q2C4']==1)&(df['alcoholic_score']<4)].count()\n",
    "\n",
    "print('total number of S1Q2A,S2Q2B,S1Q2C1,S1Q2C3,S2Q2C4')\n",
    "print(d[0],e[0],f[0],g[0],h[0])\n",
    "print('percentages of S1Q2A,S2Q2B,S1Q2C1,S1Q2C3,S2Q2C4')\n",
    "print((d[0],e[0],f[0],g[0],h[0])/alcolist[0])"
   ]
  },
  {
   "cell_type": "code",
   "execution_count": null,
   "metadata": {},
   "outputs": [],
   "source": []
  },
  {
   "cell_type": "code",
   "execution_count": null,
   "metadata": {},
   "outputs": [],
   "source": []
  }
 ],
 "metadata": {
  "kernelspec": {
   "display_name": "Python 3",
   "language": "python",
   "name": "python3"
  },
  "language_info": {
   "codemirror_mode": {
    "name": "ipython",
    "version": 3
   },
   "file_extension": ".py",
   "mimetype": "text/x-python",
   "name": "python",
   "nbconvert_exporter": "python",
   "pygments_lexer": "ipython3",
   "version": "3.8.5"
  }
 },
 "nbformat": 4,
 "nbformat_minor": 4
}
